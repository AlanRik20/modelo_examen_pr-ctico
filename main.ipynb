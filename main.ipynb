{
 "cells": [
  {
   "cell_type": "markdown",
   "id": "9fee5ee9",
   "metadata": {},
   "source": [
    "# Modelo de Examen Practico - TLP3 - Python para Ciencia de Datos.\n"
   ]
  },
  {
   "cell_type": "markdown",
   "id": "999099d0",
   "metadata": {},
   "source": [
    "**A partir del datasets brindado, realizar los siguientes procedimientos:**\n",
    "\n",
    "* Importar datasets con Pandas.\n",
    "* Explorar los datos con los metodos correspondientes. \n",
    "* Limpieza de los datos (Normalización de datos).\n",
    "* Obtener estadisticas.\n",
    "* Mostrar los datos procesados con graficos utilizando la libreria Matplotlib.\n",
    "* Exportar el contenido a un archivo sqlite utilizando PANDAS.\n",
    "\n",
    "\n",
    "**Importante: Se debe documentar cada procedimiento realizado, siguiendo la siguiente estructura:**\n",
    "\n",
    "1. Celda de Markdown (Documentación)\n",
    "2. Código (Sin comentarios, se debe documentar lo sufiente solo en la celda de markdown)."
   ]
  },
  {
   "cell_type": "markdown",
   "id": "dd91f969",
   "metadata": {},
   "source": [
    "## Actividades: \n",
    "### 1. Importación del Dataset con Pandas\n",
    "\n",
    "En esta sección, se debe utilizar la librería Pandas para cargar el archivo CSV que contiene los datos de las calificaciones en un DataFrame, que es la estructura de datos fundamental para el análisis con Pandas.\n",
    "\n",
    "### 2. Exploración Inicial de los Datos\n",
    "\n",
    "A continuación, se deben emplear métodos de Pandas para obtener una visión general del dataset. Esto incluye mostrar las primeras filas, obtener un resumen de la información del DataFrame (tipos de datos, valores no nulos), y calcular estadísticas descriptivas de las columnas numéricas.\n",
    "\n",
    "### 3. Limpieza y Normalización de los Datos\n",
    "\n",
    "Esta etapa crucial deben aplicar la corrección de diversos errores presentes en el dataset. Se abordarán los valores faltantes, la inconsistencia en el formato de la columna 'Asistencia', los posibles valores atípicos y la normalización de los nombres de estudiantes y materias a un formato consistente (por ejemplo, capitalización).\n",
    "\n",
    "### 4. Obtención de Estadísticas Descriptivas\n",
    "\n",
    "Después de la limpieza, deben calcular nuevamente las estadísticas descriptivas para observar el impacto del proceso de limpieza en los datos numéricos. También se pueden calcular estadísticas específicas por grupo (por ejemplo, promedio de calificaciones por materia).\n",
    "\n",
    "### 5. Visualización de los Datos con Matplotlib\n",
    "\n",
    "En esta sección, deben utilizar la librería Matplotlib para crear visualizaciones que permitan comprender mejor la distribución de las calificaciones y la asistencia. Se generarán histogramas, diagramas de dispersión y gráficos de barras.\n",
    "\n",
    "### 6. Exportación a Archivo SQLite\n",
    "\n",
    "Finalmente, deben utilizar la funcionalidad de Pandas para guardar el DataFrame procesado en una base de datos SQLite. Esto permite almacenar los datos de forma estructurada para su posterior consulta y uso.\n",
    "\n"
   ]
  },
  {
   "cell_type": "markdown",
   "id": "c883ce52",
   "metadata": {},
   "source": [
    "## Primera actividad\n",
    "- Se realizan las importanciones de las librerias correspondientes y se crea el DF"
   ]
  },
  {
   "cell_type": "code",
   "execution_count": null,
   "id": "77d27e04",
   "metadata": {},
   "outputs": [],
   "source": [
    "import pandas as pd\n",
    "import matplotlib.pyplot as plt\n",
    "\n",
    "df=pd.read_csv('datasets_calificaciones.csv')\n"
   ]
  },
  {
   "cell_type": "markdown",
   "id": "8142b2b6",
   "metadata": {},
   "source": [
    "## Segunda actividad\n",
    "- Se exploran los datos del DataFrame (tipos de datos, valores no nulos) y se obtiene la estructura general del DataSet.\n",
    "- Se guarda el DF original en otra variable por cualquier imprevisto."
   ]
  },
  {
   "cell_type": "code",
   "execution_count": null,
   "id": "3c93cebc",
   "metadata": {},
   "outputs": [],
   "source": [
    "df_backup=df\n",
    "print(f\"primero \\n {df_backup.head(7)}\")\n",
    "print(f\"\\n segundo \\n {df_backup.dtypes}\")\n",
    "print(f\"\\n tercero \\n{df_backup.isnull().sum()}\")\n"
   ]
  },
  {
   "cell_type": "markdown",
   "id": "0900a676",
   "metadata": {},
   "source": [
    "## Terecera actividad\n",
    "Una vez analizado los datos del dataset se realiza un saneamiento de los mismos, tales como:\n",
    "- Capitalización de las columnas estudiantes y materias\n",
    "- Cambiar el tipo de dato de las columnas de parcial 1/2, final y asistencia\n",
    "- Correción de los datos nulos en las columnas de parcial 1/2 y final"
   ]
  },
  {
   "cell_type": "markdown",
   "id": "d1128d9a",
   "metadata": {},
   "source": [
    "### Normalizar nombres"
   ]
  },
  {
   "cell_type": "code",
   "execution_count": null,
   "id": "60263449",
   "metadata": {},
   "outputs": [],
   "source": [
    "df_backup[\"estudiante\"]=df_backup[\"estudiante\"].str.title().str.strip()\n",
    "df_backup[\"Materia\"]=df_backup[\"Materia\"].str.title().str.strip()\n",
    "df_backup.head()"
   ]
  },
  {
   "cell_type": "markdown",
   "id": "ee29c4c2",
   "metadata": {},
   "source": [
    "### Limpiar columna de Asistencia"
   ]
  },
  {
   "cell_type": "code",
   "execution_count": null,
   "id": "399647ea",
   "metadata": {},
   "outputs": [],
   "source": [
    "df_backup[\"Asistencia\"]=df_backup[\"Asistencia\"].replace(\"[%]\",\"\",regex=True)\n",
    "df_backup.head()"
   ]
  },
  {
   "cell_type": "markdown",
   "id": "7fe20214",
   "metadata": {},
   "source": [
    "### Transoformación de datos"
   ]
  },
  {
   "cell_type": "code",
   "execution_count": null,
   "id": "5d684012",
   "metadata": {},
   "outputs": [],
   "source": [
    "df_backup[\"Parcial 1\"]=pd.to_numeric(df_backup[\"Parcial 1\"], errors=\"coerce\")\n",
    "df_backup[\"Parcial 2\"]=pd.to_numeric(df_backup[\"Parcial 2\"], errors=\"coerce\")\n",
    "df_backup[\"Final\"]=pd.to_numeric(df_backup[\"Final\"], errors=\"coerce\")\n",
    "df_backup[\"Asistencia\"]=pd.to_numeric(df_backup[\"Asistencia\"], errors=\"coerce\")\n",
    "\n",
    "df_backup.head(10)"
   ]
  },
  {
   "cell_type": "markdown",
   "id": "bdf5745d",
   "metadata": {},
   "source": [
    "### Correción de gramática"
   ]
  },
  {
   "cell_type": "code",
   "execution_count": null,
   "id": "4a86ba2f",
   "metadata": {},
   "outputs": [],
   "source": [
    "df_backup[\"Materia\"]=df_backup[\"Materia\"].str.upper().str.strip()\n",
    "df_backup[\"Materia\"]=df_backup[\"Materia\"].replace({\"MATEMATICAS\": \"Matemáticas\", \"FISICA\":\"Física\",\"QUIMICA\":\"Química\", \"PROGRAMACION BASICA\":\"Programación Básica\"})\n",
    "df_backup[\"Materia\"]=df_backup[\"Materia\"].str.title().str.strip()\n",
    "df.head()"
   ]
  },
  {
   "cell_type": "markdown",
   "id": "5fb9f990",
   "metadata": {},
   "source": [
    "### Tratando los datos nulos"
   ]
  },
  {
   "cell_type": "code",
   "execution_count": null,
   "id": "9ae220f8",
   "metadata": {},
   "outputs": [],
   "source": [
    "df_backup[\"Parcial 1\"] = df_backup[\"Parcial 1\"].fillna(df_backup[\"Parcial 1\"].median())\n",
    "df_backup[\"Parcial 2\"] = df_backup[\"Parcial 2\"].fillna(df_backup[\"Parcial 2\"].median())\n",
    "df_backup[\"Final\"] = df_backup[\"Final\"].fillna(df_backup[\"Final\"].median())\n",
    "df_backup[\"Asistencia\"] = df_backup[\"Asistencia\"].fillna(df_backup[\"Asistencia\"].median())\n"
   ]
  },
  {
   "cell_type": "markdown",
   "id": "363259d9",
   "metadata": {},
   "source": [
    "### Modificando información incoherente en la columna de Asistencia"
   ]
  },
  {
   "cell_type": "code",
   "execution_count": null,
   "id": "b0b5df60",
   "metadata": {},
   "outputs": [],
   "source": [
    "df_backup[\"Asistencia\"]=df_backup[\"Asistencia\"].replace({101:100, 102:100, 103:100})"
   ]
  },
  {
   "cell_type": "code",
   "execution_count": null,
   "id": "94cbdfb8",
   "metadata": {},
   "outputs": [],
   "source": [
    "print(df_backup.head())\n",
    "print(f\"\\n {df_backup.isnull().sum()}\")\n",
    "print(f\"\\n {df_backup.head()}\")\n",
    "print(f\"\\n {df_backup.dtypes}\")"
   ]
  },
  {
   "cell_type": "markdown",
   "id": "25fd852a",
   "metadata": {},
   "source": [
    "## Cuarta Actividad\n",
    "- En esta parte de la actividad se realizan estadísticas descriptivas, tales como promedio del alumno por materia o cosas así."
   ]
  }
 ],
 "metadata": {
  "kernelspec": {
   "display_name": "env",
   "language": "python",
   "name": "python3"
  },
  "language_info": {
   "codemirror_mode": {
    "name": "ipython",
    "version": 3
   },
   "file_extension": ".py",
   "mimetype": "text/x-python",
   "name": "python",
   "nbconvert_exporter": "python",
   "pygments_lexer": "ipython3",
   "version": "3.13.1"
  }
 },
 "nbformat": 4,
 "nbformat_minor": 5
}
