{
 "cells": [
  {
   "cell_type": "markdown",
   "id": "9fee5ee9",
   "metadata": {},
   "source": [
    "# Modelo de Examen Practico - TLP3 - Python para Ciencia de Datos.\n"
   ]
  },
  {
   "cell_type": "markdown",
   "id": "999099d0",
   "metadata": {},
   "source": [
    "**A partir del datasets brindado, realizar los siguientes procedimientos:**\n",
    "\n",
    "* Importar datasets con Pandas.\n",
    "* Explorar los datos con los metodos correspondientes. \n",
    "* Limpieza de los datos (Normalización de datos).\n",
    "* Obtener estadisticas.\n",
    "* Mostrar los datos procesados con graficos utilizando la libreria Matplotlib.\n",
    "* Exportar el contenido a un archivo sqlite utilizando PANDAS.\n",
    "\n",
    "\n",
    "**Importante: Se debe documentar cada procedimiento realizado, siguiendo la siguiente estructura:**\n",
    "\n",
    "1. Celda de Markdown (Documentación)\n",
    "2. Código (Sin comentarios, se debe documentar lo sufiente solo en la celda de markdown)."
   ]
  },
  {
   "cell_type": "markdown",
   "id": "dd91f969",
   "metadata": {},
   "source": [
    "## Actividades: \n",
    "### 1. Importación del Dataset con Pandas\n",
    "\n",
    "En esta sección, se debe utilizar la librería Pandas para cargar el archivo CSV que contiene los datos de las calificaciones en un DataFrame, que es la estructura de datos fundamental para el análisis con Pandas.\n",
    "\n",
    "### 2. Exploración Inicial de los Datos\n",
    "\n",
    "A continuación, se deben emplear métodos de Pandas para obtener una visión general del dataset. Esto incluye mostrar las primeras filas, obtener un resumen de la información del DataFrame (tipos de datos, valores no nulos), y calcular estadísticas descriptivas de las columnas numéricas.\n",
    "\n",
    "### 3. Limpieza y Normalización de los Datos\n",
    "\n",
    "Esta etapa crucial deben aplicar la corrección de diversos errores presentes en el dataset. Se abordarán los valores faltantes, la inconsistencia en el formato de la columna 'Asistencia', los posibles valores atípicos y la normalización de los nombres de estudiantes y materias a un formato consistente (por ejemplo, capitalización).\n",
    "\n",
    "### 4. Obtención de Estadísticas Descriptivas\n",
    "\n",
    "Después de la limpieza, deben calcular nuevamente las estadísticas descriptivas para observar el impacto del proceso de limpieza en los datos numéricos. También se pueden calcular estadísticas específicas por grupo (por ejemplo, promedio de calificaciones por materia).\n",
    "\n",
    "### 5. Visualización de los Datos con Matplotlib\n",
    "\n",
    "En esta sección, deben utilizar la librería Matplotlib para crear visualizaciones que permitan comprender mejor la distribución de las calificaciones y la asistencia. Se generarán histogramas, diagramas de dispersión y gráficos de barras.\n",
    "\n",
    "### 6. Exportación a Archivo SQLite\n",
    "\n",
    "Finalmente, deben utilizar la funcionalidad de Pandas para guardar el DataFrame procesado en una base de datos SQLite. Esto permite almacenar los datos de forma estructurada para su posterior consulta y uso.\n",
    "\n"
   ]
  },
  {
   "cell_type": "markdown",
   "id": "c883ce52",
   "metadata": {},
   "source": [
    "## Primera actividad\n",
    "- Se realizan las importanciones de las librerias correspondientes y se crea el DF"
   ]
  },
  {
   "cell_type": "code",
   "execution_count": 1,
   "id": "77d27e04",
   "metadata": {},
   "outputs": [],
   "source": [
    "import pandas as pd\n",
    "import matplotlib.pyplot as plt\n",
    "\n",
    "df=pd.read_csv('datasets_calificaciones.csv')\n"
   ]
  },
  {
   "cell_type": "markdown",
   "id": "8142b2b6",
   "metadata": {},
   "source": [
    "## Segunda actividad\n",
    "- Se exploran los datos del DataFrame (tipos de datos, valores no nulos) y se obtiene la estructura general del DataSet.\n",
    "- Se guarda el DF original en otra variable por cualquier imprevisto."
   ]
  },
  {
   "cell_type": "code",
   "execution_count": 2,
   "id": "3c93cebc",
   "metadata": {},
   "outputs": [
    {
     "name": "stdout",
     "output_type": "stream",
     "text": [
      "primero \n",
      "         estudiante            Materia Parcial 1 Parcial 2 Final Asistencia\n",
      "0        ana pérez        matematicas         8       7.5     9        95%\n",
      "1     carlos lópez             fisica       6.2         7   NaN        88%\n",
      "2      maría gómez            quimica         9       8.8   9.5       100%\n",
      "3  pedro rodríguez           historia       7.5         6     7         75\n",
      "4     laura vargas        matematicas                 9.2   8.5        92%\n",
      "5      javier soto             fisica       5.8       6.5     6        80%\n",
      "6       sofia díaz  ciencias sociales       9.5       9.1              98%\n",
      "\n",
      " segundo \n",
      " estudiante    object\n",
      "Materia       object\n",
      "Parcial 1     object\n",
      "Parcial 2     object\n",
      "Final         object\n",
      "Asistencia    object\n",
      "dtype: object\n",
      "\n",
      " tercero \n",
      "estudiante     0\n",
      "Materia        0\n",
      "Parcial 1      5\n",
      "Parcial 2     10\n",
      "Final         11\n",
      "Asistencia     0\n",
      "dtype: int64\n"
     ]
    }
   ],
   "source": [
    "df_backup=df\n",
    "print(f\"primero \\n {df_backup.head(7)}\")\n",
    "print(f\"\\n segundo \\n {df_backup.dtypes}\")\n",
    "print(f\"\\n tercero \\n{df_backup.isnull().sum()}\")\n"
   ]
  },
  {
   "cell_type": "markdown",
   "id": "0900a676",
   "metadata": {},
   "source": [
    "## Terecera actividad\n",
    "Una vez analizado los datos del dataset se realiza un saneamiento de los mismos, tales como:\n",
    "- Capitalización de las columnas estudiantes y materias\n",
    "- Cambiar el tipo de dato de las columnas de parcial 1/2, final y asistencia\n",
    "- Correción de los datos nulos en las columnas de parcial 1/2 y final"
   ]
  },
  {
   "cell_type": "markdown",
   "id": "d1128d9a",
   "metadata": {},
   "source": [
    "### Normalizar nombres"
   ]
  },
  {
   "cell_type": "code",
   "execution_count": 3,
   "id": "60263449",
   "metadata": {},
   "outputs": [
    {
     "data": {
      "text/html": [
       "<div>\n",
       "<style scoped>\n",
       "    .dataframe tbody tr th:only-of-type {\n",
       "        vertical-align: middle;\n",
       "    }\n",
       "\n",
       "    .dataframe tbody tr th {\n",
       "        vertical-align: top;\n",
       "    }\n",
       "\n",
       "    .dataframe thead th {\n",
       "        text-align: right;\n",
       "    }\n",
       "</style>\n",
       "<table border=\"1\" class=\"dataframe\">\n",
       "  <thead>\n",
       "    <tr style=\"text-align: right;\">\n",
       "      <th></th>\n",
       "      <th>estudiante</th>\n",
       "      <th>Materia</th>\n",
       "      <th>Parcial 1</th>\n",
       "      <th>Parcial 2</th>\n",
       "      <th>Final</th>\n",
       "      <th>Asistencia</th>\n",
       "    </tr>\n",
       "  </thead>\n",
       "  <tbody>\n",
       "    <tr>\n",
       "      <th>0</th>\n",
       "      <td>Ana Pérez</td>\n",
       "      <td>Matematicas</td>\n",
       "      <td>8</td>\n",
       "      <td>7.5</td>\n",
       "      <td>9</td>\n",
       "      <td>95%</td>\n",
       "    </tr>\n",
       "    <tr>\n",
       "      <th>1</th>\n",
       "      <td>Carlos López</td>\n",
       "      <td>Fisica</td>\n",
       "      <td>6.2</td>\n",
       "      <td>7</td>\n",
       "      <td>NaN</td>\n",
       "      <td>88%</td>\n",
       "    </tr>\n",
       "    <tr>\n",
       "      <th>2</th>\n",
       "      <td>María Gómez</td>\n",
       "      <td>Quimica</td>\n",
       "      <td>9</td>\n",
       "      <td>8.8</td>\n",
       "      <td>9.5</td>\n",
       "      <td>100%</td>\n",
       "    </tr>\n",
       "    <tr>\n",
       "      <th>3</th>\n",
       "      <td>Pedro Rodríguez</td>\n",
       "      <td>Historia</td>\n",
       "      <td>7.5</td>\n",
       "      <td>6</td>\n",
       "      <td>7</td>\n",
       "      <td>75</td>\n",
       "    </tr>\n",
       "    <tr>\n",
       "      <th>4</th>\n",
       "      <td>Laura Vargas</td>\n",
       "      <td>Matematicas</td>\n",
       "      <td></td>\n",
       "      <td>9.2</td>\n",
       "      <td>8.5</td>\n",
       "      <td>92%</td>\n",
       "    </tr>\n",
       "  </tbody>\n",
       "</table>\n",
       "</div>"
      ],
      "text/plain": [
       "        estudiante      Materia Parcial 1 Parcial 2 Final Asistencia\n",
       "0        Ana Pérez  Matematicas         8       7.5     9        95%\n",
       "1     Carlos López       Fisica       6.2         7   NaN        88%\n",
       "2      María Gómez      Quimica         9       8.8   9.5       100%\n",
       "3  Pedro Rodríguez     Historia       7.5         6     7         75\n",
       "4     Laura Vargas  Matematicas                 9.2   8.5        92%"
      ]
     },
     "execution_count": 3,
     "metadata": {},
     "output_type": "execute_result"
    }
   ],
   "source": [
    "df_backup[\"estudiante\"]=df_backup[\"estudiante\"].str.title().str.strip()\n",
    "df_backup[\"Materia\"]=df_backup[\"Materia\"].str.title().str.strip()\n",
    "df_backup.head()"
   ]
  },
  {
   "cell_type": "markdown",
   "id": "ee29c4c2",
   "metadata": {},
   "source": [
    "### Limpiar columna de Asistencia"
   ]
  },
  {
   "cell_type": "code",
   "execution_count": 4,
   "id": "399647ea",
   "metadata": {},
   "outputs": [
    {
     "data": {
      "text/html": [
       "<div>\n",
       "<style scoped>\n",
       "    .dataframe tbody tr th:only-of-type {\n",
       "        vertical-align: middle;\n",
       "    }\n",
       "\n",
       "    .dataframe tbody tr th {\n",
       "        vertical-align: top;\n",
       "    }\n",
       "\n",
       "    .dataframe thead th {\n",
       "        text-align: right;\n",
       "    }\n",
       "</style>\n",
       "<table border=\"1\" class=\"dataframe\">\n",
       "  <thead>\n",
       "    <tr style=\"text-align: right;\">\n",
       "      <th></th>\n",
       "      <th>estudiante</th>\n",
       "      <th>Materia</th>\n",
       "      <th>Parcial 1</th>\n",
       "      <th>Parcial 2</th>\n",
       "      <th>Final</th>\n",
       "      <th>Asistencia</th>\n",
       "    </tr>\n",
       "  </thead>\n",
       "  <tbody>\n",
       "    <tr>\n",
       "      <th>0</th>\n",
       "      <td>Ana Pérez</td>\n",
       "      <td>Matematicas</td>\n",
       "      <td>8</td>\n",
       "      <td>7.5</td>\n",
       "      <td>9</td>\n",
       "      <td>95</td>\n",
       "    </tr>\n",
       "    <tr>\n",
       "      <th>1</th>\n",
       "      <td>Carlos López</td>\n",
       "      <td>Fisica</td>\n",
       "      <td>6.2</td>\n",
       "      <td>7</td>\n",
       "      <td>NaN</td>\n",
       "      <td>88</td>\n",
       "    </tr>\n",
       "    <tr>\n",
       "      <th>2</th>\n",
       "      <td>María Gómez</td>\n",
       "      <td>Quimica</td>\n",
       "      <td>9</td>\n",
       "      <td>8.8</td>\n",
       "      <td>9.5</td>\n",
       "      <td>100</td>\n",
       "    </tr>\n",
       "    <tr>\n",
       "      <th>3</th>\n",
       "      <td>Pedro Rodríguez</td>\n",
       "      <td>Historia</td>\n",
       "      <td>7.5</td>\n",
       "      <td>6</td>\n",
       "      <td>7</td>\n",
       "      <td>75</td>\n",
       "    </tr>\n",
       "    <tr>\n",
       "      <th>4</th>\n",
       "      <td>Laura Vargas</td>\n",
       "      <td>Matematicas</td>\n",
       "      <td></td>\n",
       "      <td>9.2</td>\n",
       "      <td>8.5</td>\n",
       "      <td>92</td>\n",
       "    </tr>\n",
       "  </tbody>\n",
       "</table>\n",
       "</div>"
      ],
      "text/plain": [
       "        estudiante      Materia Parcial 1 Parcial 2 Final Asistencia\n",
       "0        Ana Pérez  Matematicas         8       7.5     9         95\n",
       "1     Carlos López       Fisica       6.2         7   NaN         88\n",
       "2      María Gómez      Quimica         9       8.8   9.5        100\n",
       "3  Pedro Rodríguez     Historia       7.5         6     7         75\n",
       "4     Laura Vargas  Matematicas                 9.2   8.5         92"
      ]
     },
     "execution_count": 4,
     "metadata": {},
     "output_type": "execute_result"
    }
   ],
   "source": [
    "df_backup[\"Asistencia\"]=df_backup[\"Asistencia\"].replace(\"[%]\",\"\",regex=True)\n",
    "df_backup.head()"
   ]
  },
  {
   "cell_type": "markdown",
   "id": "7fe20214",
   "metadata": {},
   "source": [
    "### Transoformación de datos"
   ]
  },
  {
   "cell_type": "code",
   "execution_count": 5,
   "id": "5d684012",
   "metadata": {},
   "outputs": [
    {
     "data": {
      "text/html": [
       "<div>\n",
       "<style scoped>\n",
       "    .dataframe tbody tr th:only-of-type {\n",
       "        vertical-align: middle;\n",
       "    }\n",
       "\n",
       "    .dataframe tbody tr th {\n",
       "        vertical-align: top;\n",
       "    }\n",
       "\n",
       "    .dataframe thead th {\n",
       "        text-align: right;\n",
       "    }\n",
       "</style>\n",
       "<table border=\"1\" class=\"dataframe\">\n",
       "  <thead>\n",
       "    <tr style=\"text-align: right;\">\n",
       "      <th></th>\n",
       "      <th>estudiante</th>\n",
       "      <th>Materia</th>\n",
       "      <th>Parcial 1</th>\n",
       "      <th>Parcial 2</th>\n",
       "      <th>Final</th>\n",
       "      <th>Asistencia</th>\n",
       "    </tr>\n",
       "  </thead>\n",
       "  <tbody>\n",
       "    <tr>\n",
       "      <th>0</th>\n",
       "      <td>Ana Pérez</td>\n",
       "      <td>Matematicas</td>\n",
       "      <td>8.0</td>\n",
       "      <td>7.5</td>\n",
       "      <td>9.0</td>\n",
       "      <td>95</td>\n",
       "    </tr>\n",
       "    <tr>\n",
       "      <th>1</th>\n",
       "      <td>Carlos López</td>\n",
       "      <td>Fisica</td>\n",
       "      <td>6.2</td>\n",
       "      <td>7.0</td>\n",
       "      <td>NaN</td>\n",
       "      <td>88</td>\n",
       "    </tr>\n",
       "    <tr>\n",
       "      <th>2</th>\n",
       "      <td>María Gómez</td>\n",
       "      <td>Quimica</td>\n",
       "      <td>9.0</td>\n",
       "      <td>8.8</td>\n",
       "      <td>9.5</td>\n",
       "      <td>100</td>\n",
       "    </tr>\n",
       "    <tr>\n",
       "      <th>3</th>\n",
       "      <td>Pedro Rodríguez</td>\n",
       "      <td>Historia</td>\n",
       "      <td>7.5</td>\n",
       "      <td>6.0</td>\n",
       "      <td>7.0</td>\n",
       "      <td>75</td>\n",
       "    </tr>\n",
       "    <tr>\n",
       "      <th>4</th>\n",
       "      <td>Laura Vargas</td>\n",
       "      <td>Matematicas</td>\n",
       "      <td>NaN</td>\n",
       "      <td>9.2</td>\n",
       "      <td>8.5</td>\n",
       "      <td>92</td>\n",
       "    </tr>\n",
       "    <tr>\n",
       "      <th>5</th>\n",
       "      <td>Javier Soto</td>\n",
       "      <td>Fisica</td>\n",
       "      <td>5.8</td>\n",
       "      <td>6.5</td>\n",
       "      <td>6.0</td>\n",
       "      <td>80</td>\n",
       "    </tr>\n",
       "    <tr>\n",
       "      <th>6</th>\n",
       "      <td>Sofia Díaz</td>\n",
       "      <td>Ciencias Sociales</td>\n",
       "      <td>9.5</td>\n",
       "      <td>9.1</td>\n",
       "      <td>NaN</td>\n",
       "      <td>98</td>\n",
       "    </tr>\n",
       "    <tr>\n",
       "      <th>7</th>\n",
       "      <td>Miguel Fernández</td>\n",
       "      <td>Literatura Universal</td>\n",
       "      <td>8.0</td>\n",
       "      <td>7.8</td>\n",
       "      <td>8.2</td>\n",
       "      <td>85</td>\n",
       "    </tr>\n",
       "    <tr>\n",
       "      <th>8</th>\n",
       "      <td>Valentina Ruiz</td>\n",
       "      <td>Matematicas</td>\n",
       "      <td>7.0</td>\n",
       "      <td>NaN</td>\n",
       "      <td>7.8</td>\n",
       "      <td>90</td>\n",
       "    </tr>\n",
       "    <tr>\n",
       "      <th>9</th>\n",
       "      <td>Diego Castro</td>\n",
       "      <td>Fisica</td>\n",
       "      <td>6.8</td>\n",
       "      <td>7.2</td>\n",
       "      <td>7.5</td>\n",
       "      <td>93</td>\n",
       "    </tr>\n",
       "  </tbody>\n",
       "</table>\n",
       "</div>"
      ],
      "text/plain": [
       "         estudiante               Materia  Parcial 1  Parcial 2  Final  \\\n",
       "0         Ana Pérez           Matematicas        8.0        7.5    9.0   \n",
       "1      Carlos López                Fisica        6.2        7.0    NaN   \n",
       "2       María Gómez               Quimica        9.0        8.8    9.5   \n",
       "3   Pedro Rodríguez              Historia        7.5        6.0    7.0   \n",
       "4      Laura Vargas           Matematicas        NaN        9.2    8.5   \n",
       "5       Javier Soto                Fisica        5.8        6.5    6.0   \n",
       "6        Sofia Díaz     Ciencias Sociales        9.5        9.1    NaN   \n",
       "7  Miguel Fernández  Literatura Universal        8.0        7.8    8.2   \n",
       "8    Valentina Ruiz           Matematicas        7.0        NaN    7.8   \n",
       "9      Diego Castro                Fisica        6.8        7.2    7.5   \n",
       "\n",
       "   Asistencia  \n",
       "0          95  \n",
       "1          88  \n",
       "2         100  \n",
       "3          75  \n",
       "4          92  \n",
       "5          80  \n",
       "6          98  \n",
       "7          85  \n",
       "8          90  \n",
       "9          93  "
      ]
     },
     "execution_count": 5,
     "metadata": {},
     "output_type": "execute_result"
    }
   ],
   "source": [
    "df_backup[\"Parcial 1\"]=pd.to_numeric(df_backup[\"Parcial 1\"], errors=\"coerce\")\n",
    "df_backup[\"Parcial 2\"]=pd.to_numeric(df_backup[\"Parcial 2\"], errors=\"coerce\")\n",
    "df_backup[\"Final\"]=pd.to_numeric(df_backup[\"Final\"], errors=\"coerce\")\n",
    "df_backup[\"Asistencia\"]=pd.to_numeric(df_backup[\"Asistencia\"], errors=\"coerce\")\n",
    "\n",
    "df_backup.head(10)"
   ]
  },
  {
   "cell_type": "markdown",
   "id": "bdf5745d",
   "metadata": {},
   "source": [
    "### Correción de gramática"
   ]
  },
  {
   "cell_type": "code",
   "execution_count": 6,
   "id": "4a86ba2f",
   "metadata": {},
   "outputs": [
    {
     "data": {
      "text/html": [
       "<div>\n",
       "<style scoped>\n",
       "    .dataframe tbody tr th:only-of-type {\n",
       "        vertical-align: middle;\n",
       "    }\n",
       "\n",
       "    .dataframe tbody tr th {\n",
       "        vertical-align: top;\n",
       "    }\n",
       "\n",
       "    .dataframe thead th {\n",
       "        text-align: right;\n",
       "    }\n",
       "</style>\n",
       "<table border=\"1\" class=\"dataframe\">\n",
       "  <thead>\n",
       "    <tr style=\"text-align: right;\">\n",
       "      <th></th>\n",
       "      <th>estudiante</th>\n",
       "      <th>Materia</th>\n",
       "      <th>Parcial 1</th>\n",
       "      <th>Parcial 2</th>\n",
       "      <th>Final</th>\n",
       "      <th>Asistencia</th>\n",
       "    </tr>\n",
       "  </thead>\n",
       "  <tbody>\n",
       "    <tr>\n",
       "      <th>0</th>\n",
       "      <td>Ana Pérez</td>\n",
       "      <td>Matemáticas</td>\n",
       "      <td>8.0</td>\n",
       "      <td>7.5</td>\n",
       "      <td>9.0</td>\n",
       "      <td>95</td>\n",
       "    </tr>\n",
       "    <tr>\n",
       "      <th>1</th>\n",
       "      <td>Carlos López</td>\n",
       "      <td>Física</td>\n",
       "      <td>6.2</td>\n",
       "      <td>7.0</td>\n",
       "      <td>NaN</td>\n",
       "      <td>88</td>\n",
       "    </tr>\n",
       "    <tr>\n",
       "      <th>2</th>\n",
       "      <td>María Gómez</td>\n",
       "      <td>Química</td>\n",
       "      <td>9.0</td>\n",
       "      <td>8.8</td>\n",
       "      <td>9.5</td>\n",
       "      <td>100</td>\n",
       "    </tr>\n",
       "    <tr>\n",
       "      <th>3</th>\n",
       "      <td>Pedro Rodríguez</td>\n",
       "      <td>Historia</td>\n",
       "      <td>7.5</td>\n",
       "      <td>6.0</td>\n",
       "      <td>7.0</td>\n",
       "      <td>75</td>\n",
       "    </tr>\n",
       "    <tr>\n",
       "      <th>4</th>\n",
       "      <td>Laura Vargas</td>\n",
       "      <td>Matemáticas</td>\n",
       "      <td>NaN</td>\n",
       "      <td>9.2</td>\n",
       "      <td>8.5</td>\n",
       "      <td>92</td>\n",
       "    </tr>\n",
       "  </tbody>\n",
       "</table>\n",
       "</div>"
      ],
      "text/plain": [
       "        estudiante      Materia  Parcial 1  Parcial 2  Final  Asistencia\n",
       "0        Ana Pérez  Matemáticas        8.0        7.5    9.0          95\n",
       "1     Carlos López       Física        6.2        7.0    NaN          88\n",
       "2      María Gómez      Química        9.0        8.8    9.5         100\n",
       "3  Pedro Rodríguez     Historia        7.5        6.0    7.0          75\n",
       "4     Laura Vargas  Matemáticas        NaN        9.2    8.5          92"
      ]
     },
     "execution_count": 6,
     "metadata": {},
     "output_type": "execute_result"
    }
   ],
   "source": [
    "df_backup[\"Materia\"]=df_backup[\"Materia\"].str.upper().str.strip()\n",
    "df_backup[\"Materia\"]=df_backup[\"Materia\"].replace({\"MATEMATICAS\": \"Matemáticas\", \"FISICA\":\"Física\",\"QUIMICA\":\"Química\", \"PROGRAMACION BASICA\":\"Programación Básica\"})\n",
    "df_backup[\"Materia\"]=df_backup[\"Materia\"].str.title().str.strip()\n",
    "df.head()"
   ]
  },
  {
   "cell_type": "markdown",
   "id": "5fb9f990",
   "metadata": {},
   "source": [
    "### Tratando los datos nulos"
   ]
  },
  {
   "cell_type": "code",
   "execution_count": 7,
   "id": "9ae220f8",
   "metadata": {},
   "outputs": [],
   "source": [
    "df_backup[\"Parcial 1\"] = df_backup[\"Parcial 1\"].fillna(df_backup[\"Parcial 1\"].median())\n",
    "df_backup[\"Parcial 2\"] = df_backup[\"Parcial 2\"].fillna(df_backup[\"Parcial 2\"].median())\n",
    "df_backup[\"Final\"] = df_backup[\"Final\"].fillna(df_backup[\"Final\"].median())\n",
    "df_backup[\"Asistencia\"] = df_backup[\"Asistencia\"].fillna(df_backup[\"Asistencia\"].median())\n"
   ]
  },
  {
   "cell_type": "markdown",
   "id": "363259d9",
   "metadata": {},
   "source": [
    "### Modificando información incoherente en la columna de Asistencia"
   ]
  },
  {
   "cell_type": "code",
   "execution_count": 8,
   "id": "b0b5df60",
   "metadata": {},
   "outputs": [],
   "source": [
    "df_backup[\"Asistencia\"]=df_backup[\"Asistencia\"].replace({101:100, 102:100, 103:100})"
   ]
  },
  {
   "cell_type": "code",
   "execution_count": null,
   "id": "94cbdfb8",
   "metadata": {},
   "outputs": [],
   "source": [
    "print(df_backup.head())\n",
    "print(f\"\\n {df_backup.isnull().sum()}\")\n",
    "print(f\"\\n {df_backup.head()}\")\n",
    "print(f\"\\n {df_backup.dtypes}\")"
   ]
  },
  {
   "cell_type": "markdown",
   "id": "25fd852a",
   "metadata": {},
   "source": [
    "## Cuarta Actividad\n",
    "- En esta parte de la actividad se realizan estadísticas descriptivas, tales como promedio del alumno por materia."
   ]
  },
  {
   "cell_type": "code",
   "execution_count": null,
   "id": "38742081",
   "metadata": {},
   "outputs": [
    {
     "name": "stdout",
     "output_type": "stream",
     "text": [
      "        estudiante      Materia  Parcial 1  Parcial 2  Final  Asistencia  \\\n",
      "0        Ana Pérez  Matemáticas        8.0        7.5    9.0          95   \n",
      "1     Carlos López       Física        6.2        7.0    7.8          88   \n",
      "2      María Gómez      Química        9.0        8.8    9.5         100   \n",
      "3  Pedro Rodríguez     Historia        7.5        6.0    7.0          75   \n",
      "4     Laura Vargas  Matemáticas        7.9        9.2    8.5          92   \n",
      "\n",
      "   Promedio Estudiante  \n",
      "0             8.166667  \n",
      "1             7.000000  \n",
      "2             9.100000  \n",
      "3             6.833333  \n",
      "4             8.533333  \n"
     ]
    }
   ],
   "source": [
    "df_backup[\"Promedio Estudiante\"] = df_backup[[\"Parcial 1\", \"Parcial 2\", \"Final\"]].mean(axis=1, skipna=True)\n",
    "promedio_por_materia = df_backup.groupby(\"Materia\")[\"Promedio Estudiante\"].mean()\n",
    "print(df_backup.head())\n"
   ]
  },
  {
   "cell_type": "markdown",
   "id": "9b4e8f51",
   "metadata": {},
   "source": [
    "## Exportación de archivo\n",
    "Por último, una vez que el saneamiento de datos está finalizado se exporta a un nuevo y limpio archivo en formato csv\n"
   ]
  },
  {
   "cell_type": "code",
   "execution_count": 15,
   "id": "7ceafa51",
   "metadata": {},
   "outputs": [],
   "source": [
    "df_backup.to_csv(\"datasets_calificaciones_limpio.csv\", index=False)"
   ]
  }
 ],
 "metadata": {
  "kernelspec": {
   "display_name": "env",
   "language": "python",
   "name": "python3"
  },
  "language_info": {
   "codemirror_mode": {
    "name": "ipython",
    "version": 3
   },
   "file_extension": ".py",
   "mimetype": "text/x-python",
   "name": "python",
   "nbconvert_exporter": "python",
   "pygments_lexer": "ipython3",
   "version": "3.13.1"
  }
 },
 "nbformat": 4,
 "nbformat_minor": 5
}
